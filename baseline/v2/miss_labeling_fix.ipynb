{
 "cells": [
  {
   "cell_type": "code",
   "execution_count": 1,
   "id": "2fc82e41-976d-468c-a32d-1d4b55aa607b",
   "metadata": {},
   "outputs": [],
   "source": [
    "import os\n",
    "from glob import glob\n",
    "import pandas as pd\n",
    "import shutil"
   ]
  },
  {
   "cell_type": "code",
   "execution_count": 2,
   "id": "cd272bdb-885e-487a-819e-2f37ea899613",
   "metadata": {},
   "outputs": [],
   "source": [
    "def isFileChanged(file_path): # check if file changed based on last modified time \n",
    "    if os.path.getmtime(file_path) > 1614865992.0: \n",
    "        return True \n",
    "\n",
    "    return False"
   ]
  },
  {
   "cell_type": "code",
   "execution_count": 3,
   "id": "116cdb75-49ae-41d8-b620-27d55155c383",
   "metadata": {},
   "outputs": [],
   "source": [
    "def correct_mask_status(data_dir, invalid_list, correct_list):\n",
    "    print(\"=\"*50)\n",
    "    print(\"Change Mask Status\")\n",
    "\n",
    "    for folder in invalid_list: \n",
    "        image_dir = os.path.join(data_dir, folder)\n",
    "\n",
    "        incorrect_file = os.path.join(image_dir, correct_list[0])\n",
    "        normal_file = os.path.join(image_dir, correct_list[1])\n",
    "\n",
    "        if not isFileChanged(incorrect_file): #last modified time\n",
    "            temp = os.path.join(image_dir, correct_list[2])\n",
    "\n",
    "            os.rename(incorrect_file, temp)\n",
    "            os.rename(normal_file, incorrect_file)\n",
    "            os.rename(temp, normal_file)  # temp.jpg is not created in this folder\n",
    "\n",
    "            print(\"Changed File Names\")\n",
    "\n",
    "        else :\n",
    "            print(\"Already Changed\")\n",
    "    \n",
    "    print(\"Process Done\")"
   ]
  },
  {
   "cell_type": "code",
   "execution_count": 4,
   "id": "60aab100-ea82-496d-8739-95da5481f1a9",
   "metadata": {},
   "outputs": [],
   "source": [
    "def change_incorrect_gender(incorrect, src, target): \n",
    "    changed_path = incorrect.replace(src, target)\n",
    "    print(f\"{incorrect.split('images/')[1]} is changing into {target}\")\n",
    "    shutil.move(incorrect, changed_path)\n"
   ]
  },
  {
   "cell_type": "code",
   "execution_count": 5,
   "id": "57a6c5f0-e645-4afa-b1af-ad1dd6383cb5",
   "metadata": {},
   "outputs": [],
   "source": [
    "def correct_gender_status(data_dir, invalid_id_list): \n",
    "    df = pd.read_csv('/opt/ml/input/data/train/train.csv')\n",
    "\n",
    "    path_list = [] # list that contains incorrect file path\n",
    "    correct_gender_list = [] # list that contains correct gender of incorrect file path\n",
    "\n",
    "    print(\"=\"*50)\n",
    "    print(\"Change Gender Status\")\n",
    "\n",
    "    for path in df['path']:\n",
    "        for pid in invalid_id_list:\n",
    "            if pid in path:\n",
    "                path_list.append(path)\n",
    "                correct_gender_list.append(\"male\" if \"female\" in path else \"female\")\n",
    "\n",
    "    for idx, foldername in enumerate(path_list):\n",
    "        folder_dir = os.path.join(data_dir, foldername)\n",
    "        gender = correct_gender_list[idx]\n",
    "\n",
    "        if gender == \"male\" and os.path.exists(folder_dir):\n",
    "            change_incorrect_gender(folder_dir, \"female\", gender)\n",
    "\n",
    "        elif gender==\"female\" and os.path.exists(folder_dir):\n",
    "            change_incorrect_gender(folder_dir, \"male\", gender)\n",
    "\n",
    "    print(\"Process Done\")"
   ]
  },
  {
   "cell_type": "code",
   "execution_count": 6,
   "id": "af88c2aa-9415-4417-8ec4-b6ee0bab5026",
   "metadata": {},
   "outputs": [],
   "source": [
    "def readCurrentFolders(data_dir): # change age task should read current folders\n",
    "    return sorted(list(filter(lambda p:not p.startswith(\".\"), os.listdir(data_dir))))    "
   ]
  },
  {
   "cell_type": "code",
   "execution_count": 7,
   "id": "aebbe799-be44-4b05-a474-584f39728f10",
   "metadata": {},
   "outputs": [],
   "source": [
    "def correct_age_status(data_dir, invalid_age_id):\n",
    "    current_folders = readCurrentFolders(data_dir)\n",
    "    idx = 0 # for age dict\n",
    "\n",
    "    print(\"=\"*50)\n",
    "    print(\"Change Age Status\")\n",
    "\n",
    "    for folder in current_folders: #sorted folders list\n",
    "        invalid_path = os.path.join(data_dir, folder)\n",
    "        invalid_age = folder.split(\"Asian_\")[1]\n",
    "\n",
    "        if folder.split(\"_\")[0] in invalid_age_id.keys():\n",
    "            correct_age = str(list(invalid_age_id.values())[idx])\n",
    "            correct_path = invalid_path.replace(invalid_age, correct_age)\n",
    "\n",
    "            print(f\"{invalid_path.split('images/')[1]} is changing into {correct_path.split('images/')[1]}\")\n",
    "            shutil.move(invalid_path, correct_path)\n",
    "\n",
    "            idx += 1\n",
    "\n",
    "\n",
    "    print(\"Process Done\")\n"
   ]
  },
  {
   "cell_type": "code",
   "execution_count": 8,
   "id": "f49126d9-2f3a-45d2-8967-910420dfcfeb",
   "metadata": {},
   "outputs": [
    {
     "name": "stdout",
     "output_type": "stream",
     "text": [
      "==================================================\n",
      "Change Mask Status\n",
      "Changed File Names\n",
      "Already Changed\n",
      "Already Changed\n",
      "Process Done\n",
      "==================================================\n",
      "Change Gender Status\n",
      "000225_female_Asian_25 is changing into male\n",
      "000664_female_Asian_55 is changing into male\n",
      "000767_female_Asian_56 is changing into male\n",
      "001498-1_male_Asian_23 is changing into female\n",
      "001509_female_Asian_60 is changing into male\n",
      "003113_female_Asian_20 is changing into male\n",
      "003223_female_Asian_18 is changing into male\n",
      "004281_female_Asian_60 is changing into male\n",
      "004432_male_Asian_43 is changing into female\n",
      "005223_male_Asian_22 is changing into female\n",
      "006359_female_Asian_18 is changing into male\n",
      "006360_female_Asian_18 is changing into male\n",
      "006361_female_Asian_18 is changing into male\n",
      "006362_female_Asian_18 is changing into male\n",
      "006363_female_Asian_18 is changing into male\n",
      "006364_female_Asian_18 is changing into male\n",
      "006424_female_Asian_18 is changing into male\n",
      "Process Done\n",
      "==================================================\n",
      "Change Age Status\n",
      "001009_female_Asian_40 is changing into 001009_female_Asian_20\n",
      "001064_female_Asian_44 is changing into 001064_female_Asian_20\n",
      "001637_female_Asian_34 is changing into 001637_female_Asian_20\n",
      "001666_female_Asian_45 is changing into 001666_female_Asian_20\n",
      "001852_male_Asian_48 is changing into 001852_male_Asian_20\n",
      "004348_male_Asian_59 is changing into 004348_male_Asian_60\n",
      "Process Done\n"
     ]
    }
   ],
   "source": [
    " data_dir= \"/opt/ml/input/data/train/images\"\n",
    "\n",
    "mask_status_invalid = [\"000020_female_Asian_50\", \"004418_male_Asian_20\", \"005227_male_Asian_22\"]\n",
    "mask_status_name = [\"incorrect_mask.jpg\", \"normal.jpg\", \"temp.jpg\"]\n",
    "\n",
    "gender_status_invalid = [\"000225\", \"000664\", \"000767\", \"001498-1\", \"001509\", \"003113\", \"003223\", \"004281\", \n",
    "\"004432\", \"005223\", \"006359\", \"006360\",\"006361\", \"006362\", \"006363\", \"006364\", \"006424\"]\n",
    "\n",
    "age_status_invalid = {\"001009\" : 20, \"001064\": 20, \"001637\":20, \"001666\":20, \"001852\":20, \"004348\": 60}\n",
    "\n",
    "correct_mask_status(data_dir, mask_status_invalid, mask_status_name)\n",
    "correct_gender_status(data_dir, gender_status_invalid) \n",
    "correct_age_status(data_dir, age_status_invalid)"
   ]
  }
 ],
 "metadata": {
  "kernelspec": {
   "display_name": "Python 3 (ipykernel)",
   "language": "python",
   "name": "python3"
  },
  "language_info": {
   "codemirror_mode": {
    "name": "ipython",
    "version": 3
   },
   "file_extension": ".py",
   "mimetype": "text/x-python",
   "name": "python",
   "nbconvert_exporter": "python",
   "pygments_lexer": "ipython3",
   "version": "3.8.12"
  }
 },
 "nbformat": 4,
 "nbformat_minor": 5
}
